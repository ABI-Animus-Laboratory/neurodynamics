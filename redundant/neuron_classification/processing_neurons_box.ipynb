{
 "cells": [
  {
   "cell_type": "code",
   "execution_count": 1,
   "metadata": {},
   "outputs": [],
   "source": [
    "import numpy as np\n",
    "import pandas as pd\n",
    "import pickle\n",
    "\n",
    "from scripts import neuron_classification"
   ]
  },
  {
   "cell_type": "code",
   "execution_count": 4,
   "metadata": {},
   "outputs": [],
   "source": [
    "df = pd.read_csv('/hpc/mzhu843/modelling/nest/DATA/raw/ezytrack/behaviour_LocationOutput.csv')\n",
    "spikes = np.load(\"/hpc/mzhu843/modelling/nest/DATA/processed/spikes/S_3_p.npy\")"
   ]
  },
  {
   "cell_type": "code",
   "execution_count": 5,
   "metadata": {},
   "outputs": [],
   "source": [
    "X_coords, Y_coords = df['X'].values, df['Y'].values\n",
    "num_frames = np.size(spikes, axis=1)\n",
    "X_coords, Y_coords = neuron_classification.match_frames(spikes, X_coords, Y_coords, num_frames)"
   ]
  },
  {
   "cell_type": "code",
   "execution_count": 7,
   "metadata": {},
   "outputs": [
    {
     "name": "stdout",
     "output_type": "stream",
     "text": [
      "17988\n"
     ]
    }
   ],
   "source": [
    "spikes_coords = neuron_classification.get_spike_coords(spikes, X_coords, Y_coords)\n"
   ]
  },
  {
   "cell_type": "code",
   "execution_count": 5,
   "metadata": {},
   "outputs": [
    {
     "name": "stdout",
     "output_type": "stream",
     "text": [
      "79.97418312168753\n",
      "Interneuron: 40\n",
      "Silent: 76\n",
      "Place: 90\n"
     ]
    }
   ],
   "source": [
    "x_min, x_max = df['X'].min(), df['X'].max()\n",
    "y_min, y_max = df['Y'].min(), df['Y'].max()\n",
    "neuron_types = neuron_classification.categorize_neurons_box(spikes_coords, x_min, x_max)\n",
    "\n",
    "with open('/hpc/mzhu843/modelling/nest/results/filtered_neurons/neuron_groups.pickle', 'wb') as file:\n",
    "    pickle.dump(neuron_types, file)\n",
    "\n",
    "for neuron_type in neuron_types.keys():\n",
    "    print(f'{neuron_type}: {len(neuron_types[neuron_type])}')\n"
   ]
  }
 ],
 "metadata": {
  "kernelspec": {
   "display_name": "nest",
   "language": "python",
   "name": "python3"
  },
  "language_info": {
   "codemirror_mode": {
    "name": "ipython",
    "version": 3
   },
   "file_extension": ".py",
   "mimetype": "text/x-python",
   "name": "python",
   "nbconvert_exporter": "python",
   "pygments_lexer": "ipython3",
   "version": "3.11.6"
  }
 },
 "nbformat": 4,
 "nbformat_minor": 2
}
