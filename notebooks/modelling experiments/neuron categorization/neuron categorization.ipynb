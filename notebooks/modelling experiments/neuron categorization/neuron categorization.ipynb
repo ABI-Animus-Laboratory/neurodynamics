{
 "cells": [
  {
   "cell_type": "code",
   "execution_count": 1,
   "metadata": {},
   "outputs": [],
   "source": [
    "import pickle\n",
    "import pandas as pd\n",
    "import numpy as np\n",
    "import matplotlib.pyplot as plt\n",
    "\n",
    "from scripts import neuron_categorization"
   ]
  },
  {
   "cell_type": "markdown",
   "metadata": {},
   "source": [
    "This notebook is for implementing the neuron categorisation methodology"
   ]
  },
  {
   "cell_type": "code",
   "execution_count": 2,
   "metadata": {},
   "outputs": [],
   "source": [
    "processed_spike_trains_location = '/hpc/mzhu843/modelling/nest/DATA/processed/spikes/S_5_p.npy'\n",
    "raw_calcium_traces_location = '/hpc/mzhu843/modelling/nest/DATA/raw/calcium traces/C_5.npy'\n",
    "processed_calcium_traces_location = '/hpc/mzhu843/modelling/nest/DATA/processed/calcium_traces/C_5_p.npy'\n",
    "ez_track_data_location = '/hpc/mzhu843/modelling/nest/DATA/raw/ezytrack/behaviour_LocationOutput_5.csv'\n",
    "categorised_neurons_save_destination = '/hpc/mzhu843/modelling/nest/DATA/processed/model2/small_categorised_neurons_5.pkl'\n",
    "place_obs_save_destination = '/hpc/mzhu843/modelling/nest/DATA/processed/model2/setup2/small_place_obs.npy'\n",
    "spikes_obs_save_destination = '/hpc/mzhu843/modelling/nest/DATA/processed/model2/setup2/small_spikes_obs.npy'\n",
    "\n",
    "dataset_num = 5\n",
    "acceptance = 0.68\n",
    "silent_cutoff = 10\n",
    "interneuron_cutoff = 275\n",
    "separation_threshold = 65\n",
    "pf_area = 0.35\n",
    "\n",
    "selected_ids = ['32', '33', '56', '81', '84']"
   ]
  },
  {
   "cell_type": "code",
   "execution_count": 3,
   "metadata": {},
   "outputs": [],
   "source": [
    "# spike_trains = np.load(processed_spike_trains_location)\n",
    "# calcium_traces = np.load(raw_calcium_traces_location)\n",
    "# ez_track_data = pd.read_csv(ez_track_data_location)\n",
    "\n",
    "# categorizer = neuron_categorization.NeuronCategorizer(dataset_num, spike_trains, calcium_traces, ez_track_data,\n",
    "#                                                       acceptance=acceptance,\n",
    "#                                                       silent_cutoff=silent_cutoff,\n",
    "#                                                       interneuron_cutoff=interneuron_cutoff,\n",
    "#                                                       separation_threshold=separation_threshold,\n",
    "#                                                       pf_area = pf_area)\n",
    "# categorizer.run_categorization()\n",
    "# categorizer.save_place_fields_box()\n",
    "# with open(categorised_neurons_save_destination, 'wb') as file:\n",
    "#     pickle.dump(categorized_neurons, file)\n"
   ]
  },
  {
   "cell_type": "code",
   "execution_count": 3,
   "metadata": {},
   "outputs": [],
   "source": [
    "spike_trains = np.load(processed_spike_trains_location)\n",
    "raw_calcium_traces = np.load(raw_calcium_traces_location)\n",
    "processed_calcium_traces = np.load(processed_calcium_traces_location)\n",
    "ez_track_data = pd.read_csv(ez_track_data_location)\n",
    "\n",
    "categorizer = neuron_categorization.NeuronCategorizer(5, spike_trains, raw_calcium_traces, ez_track_data)\n",
    "categorizer.run_categorization()\n",
    "\n",
    "categorized_neurons = categorizer.get_categorized_neurons()\n",
    "\n",
    "place_obs = []\n",
    "spikes_obs = []\n",
    "\n",
    "small_categorized_neurons = {'Place': {}}\n",
    "for id in selected_ids:\n",
    "    small_categorized_neurons['Place'][id] = categorized_neurons['Place'][id]\n"
   ]
  },
  {
   "cell_type": "code",
   "execution_count": 4,
   "metadata": {},
   "outputs": [],
   "source": [
    "for id in selected_ids:\n",
    "    place_obs.append(processed_calcium_traces[int(id) - 1])\n",
    "    plt.plot(processed_calcium_traces[int(id) - 1])\n",
    "    plt.xlabel('Frame')\n",
    "    plt.ylabel('Voltage (mV)')\n",
    "    plt.savefig(f'/hpc/mzhu843/modelling/nest/plots/selected 5 neurons/Neuron {id}.png')\n",
    "    plt.close()\n",
    "    spikes_obs.append(spike_trains[int(id) - 1])\n",
    "\n",
    "np.save(place_obs_save_destination, np.array(place_obs))\n",
    "np.save(spikes_obs_save_destination, np.array(spikes_obs))\n"
   ]
  },
  {
   "cell_type": "code",
   "execution_count": null,
   "metadata": {},
   "outputs": [],
   "source": [
    "with open(categorised_neurons_save_destination, 'wb') as file:\n",
    "    pickle.dump(small_categorized_neurons, file)"
   ]
  }
 ],
 "metadata": {
  "kernelspec": {
   "display_name": "nest",
   "language": "python",
   "name": "python3"
  },
  "language_info": {
   "codemirror_mode": {
    "name": "ipython",
    "version": 3
   },
   "file_extension": ".py",
   "mimetype": "text/x-python",
   "name": "python",
   "nbconvert_exporter": "python",
   "pygments_lexer": "ipython3",
   "version": "3.1.undefined"
  }
 },
 "nbformat": 4,
 "nbformat_minor": 2
}
