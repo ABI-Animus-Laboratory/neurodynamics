{
 "cells": [
  {
   "cell_type": "code",
   "execution_count": 1,
   "metadata": {},
   "outputs": [],
   "source": [
    "import numpy as np"
   ]
  },
  {
   "cell_type": "code",
   "execution_count": 3,
   "metadata": {},
   "outputs": [],
   "source": [
    "matrix = np.zeros((10, 10))\n",
    "\n",
    "for i in range(5):\n",
    "    #Pyramidal to Pyramidal\n",
    "    matrix[i][0:5] = np.abs(np.random.normal(1, scale=0.4, size=5))\n",
    "    matrix[i + 5][i] = 1\n",
    "\n",
    "for i in range(10):\n",
    "    matrix[i][i] = 0\n",
    "\n",
    "np.save('/hpc/mzhu843/modelling/nest/DATA/raw/inital_matrices/model2/initial_weights.npy' ,matrix)"
   ]
  }
 ],
 "metadata": {
  "kernelspec": {
   "display_name": "nest",
   "language": "python",
   "name": "python3"
  },
  "language_info": {
   "codemirror_mode": {
    "name": "ipython",
    "version": 3
   },
   "file_extension": ".py",
   "mimetype": "text/x-python",
   "name": "python",
   "nbconvert_exporter": "python",
   "pygments_lexer": "ipython3",
   "version": "3.11.6"
  }
 },
 "nbformat": 4,
 "nbformat_minor": 2
}
