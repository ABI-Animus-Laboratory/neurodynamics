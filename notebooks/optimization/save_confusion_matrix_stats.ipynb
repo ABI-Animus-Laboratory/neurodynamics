{
 "cells": [
  {
   "cell_type": "code",
   "execution_count": 1,
   "metadata": {},
   "outputs": [
    {
     "name": "stdout",
     "output_type": "stream",
     "text": [
      "standard\n",
      "Mean Tn:  14633\n",
      "Mean Fp:  157\n",
      "Mean Fn:  188\n",
      "Mean Tp:  22\n",
      "quadratic\n",
      "Mean Tn:  14636\n",
      "Mean Fp:  154\n",
      "Mean Fn:  194\n",
      "Mean Tp:  16\n",
      "boundary\n",
      "Mean Tn:  14630\n",
      "Mean Fp:  160\n",
      "Mean Fn:  191\n",
      "Mean Tp:  19\n"
     ]
    }
   ],
   "source": [
    "import numpy as np\n",
    "from sklearn.metrics import confusion_matrix\n",
    "\n",
    "experiment_types = ['standard', 'quadratic', 'boundary']\n",
    "weights_ranges = ['(-10, 10)', '(-20, 20)', '(-30, 30)']\n",
    "weights_change_ranges = ['(-1, 1)', '(-2, 2)', '(-3, 3)']\n",
    "observed_spikes = np.load('/hpc/mzhu843/modelling/nest/results/optimisation/setup_1/standard/{\\'weights_range\\': (-10, 10), \\'weights_change_range\\': (-1, 1)}/Observed Spikes.npy').astype('int')\n",
    "\n",
    "for experiment_type in experiment_types:\n",
    "    total_tn, total_fp, total_fn, total_tp = 0, 0, 0, 0\n",
    "    for weights_range  in weights_ranges:\n",
    "        for weights_change_range in weights_change_ranges:\n",
    "            dir_path = f\"/hpc/mzhu843/modelling/nest/results/optimisation/setup_1/{experiment_type}/{{'weights_range': {weights_range}, 'weights_change_range': {weights_change_range}}}/\"\n",
    "            runs = ['1', '2', '3']\n",
    "            for run in runs:\n",
    "                predicted_spikes = np.load(dir_path + f'Run {run} Best Predicted Spikes.npy').astype(int)\n",
    "                cm = confusion_matrix(observed_spikes.flatten(), predicted_spikes.flatten())\n",
    "                tn, fp, fn, tp = cm.ravel()\n",
    "                total_tn += tn\n",
    "                total_fp += fp\n",
    "                total_fn += fn\n",
    "                total_tp += tp\n",
    "    print(experiment_type)\n",
    "    print('Mean Tn: ', round(total_tn / 27))\n",
    "    print('Mean Fp: ', round(total_fp / 27))\n",
    "    print('Mean Fn: ', round(total_fn / 27))\n",
    "    print('Mean Tp: ', round(total_tp / 27))\n",
    "            \n",
    "                \n",
    "\n",
    "\n",
    "\n"
   ]
  }
 ],
 "metadata": {
  "kernelspec": {
   "display_name": "nest",
   "language": "python",
   "name": "python3"
  },
  "language_info": {
   "codemirror_mode": {
    "name": "ipython",
    "version": 3
   },
   "file_extension": ".py",
   "mimetype": "text/x-python",
   "name": "python",
   "nbconvert_exporter": "python",
   "pygments_lexer": "ipython3",
   "version": "3.1.-1"
  }
 },
 "nbformat": 4,
 "nbformat_minor": 2
}
