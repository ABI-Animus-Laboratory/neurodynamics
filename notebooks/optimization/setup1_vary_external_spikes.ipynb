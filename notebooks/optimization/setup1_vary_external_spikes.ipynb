{
 "cells": [
  {
   "cell_type": "code",
   "execution_count": 1,
   "metadata": {},
   "outputs": [],
   "source": [
    "import numpy as np"
   ]
  },
  {
   "cell_type": "code",
   "execution_count": 2,
   "metadata": {},
   "outputs": [
    {
     "name": "stdout",
     "output_type": "stream",
     "text": [
      "[0.1, 0.2, 0.3, 0.4, 0.5]\n"
     ]
    }
   ],
   "source": [
    "input_weights_path = '/hpc/mzhu843/modelling/nest/DATA/processed/model2/setup1/input_weights.npy'\n",
    "destination_path = '/hpc/mzhu843/modelling/nest/DATA/processed/model2/setup1/'\n",
    "input_weights = np.load(input_weights_path)\n",
    "\n",
    "mean = 0\n",
    "\n",
    "stds = [0.1, 0.2, 0.3, 0.4, 0.5]\n",
    "print(stds)"
   ]
  },
  {
   "cell_type": "code",
   "execution_count": 3,
   "metadata": {},
   "outputs": [],
   "source": [
    "for std in stds:\n",
    "    modified_weights = np.copy(input_weights)\n",
    "    for i in range(len(modified_weights)):\n",
    "        modified_weights[i] = input_weights[i] + np.random.normal(mean, std, len(modified_weights[i]))\n",
    "    np.save(destination_path + f'input_weights_{std}', modified_weights)\n"
   ]
  },
  {
   "cell_type": "code",
   "execution_count": 4,
   "metadata": {},
   "outputs": [],
   "source": [
    "results = np.load('/hpc/mzhu843/modelling/nest/DATA/processed/model2/setup1/input_weights_0.2.npy')\n"
   ]
  }
 ],
 "metadata": {
  "kernelspec": {
   "display_name": "nest",
   "language": "python",
   "name": "python3"
  },
  "language_info": {
   "codemirror_mode": {
    "name": "ipython",
    "version": 3
   },
   "file_extension": ".py",
   "mimetype": "text/x-python",
   "name": "python",
   "nbconvert_exporter": "python",
   "pygments_lexer": "ipython3",
   "version": "3.11.6"
  }
 },
 "nbformat": 4,
 "nbformat_minor": 2
}
