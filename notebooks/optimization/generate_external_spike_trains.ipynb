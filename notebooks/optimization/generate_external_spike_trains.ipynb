{
 "cells": [
  {
   "cell_type": "code",
   "execution_count": 1,
   "metadata": {},
   "outputs": [],
   "source": [
    "import numpy as np\n",
    "import matplotlib.pyplot as plt\n",
    "\n",
    "def generate_custom_array(shape, negative_mean, negative_std, positive_mean, positive_std, positive_fraction): \n",
    "    rows, cols = shape\n",
    "        \n",
    "\n",
    "    array = np.random.normal(loc=negative_mean, scale=negative_std, size=shape)\n",
    "\n",
    "    # Determine the number of positive values to introduce\n",
    "    num_positive = int(rows * cols * positive_fraction)\n",
    "\n",
    "    # Generate large positive values\n",
    "    positive_values = np.random.normal(loc=positive_mean, scale=positive_std, size=num_positive)\n",
    "\n",
    "    # Randomly select indices to replace with positive values\n",
    "    positive_indices = np.unravel_index(np.random.choice(rows * cols, num_positive, replace=False), shape)\n",
    "\n",
    "    # Replace selected indices with positive values\n",
    "    array[positive_indices] = positive_values\n",
    "\n",
    "    return array\n",
    "\n",
    "# Example usage\n",
    "shape = (5, 35000)\n",
    "negative_mean = -5\n",
    "negative_std = 1\n",
    "positive_mean = 450\n",
    "positive_std = 5\n",
    "positive_fraction = 0.025\n",
    "\n",
    "# custom_array = generate_custom_array(shape, negative_mean, negative_std, positive_mean, positive_std, positive_fraction)\n",
    "\n",
    "# np.save('/hpc/mzhu843/modelling/nest/DATA/processed/model2/setup2/input_weights.npy', custom_array)\n",
    "\n",
    "# plt.plot(custom_array[0])\n"
   ]
  },
  {
   "cell_type": "code",
   "execution_count": 2,
   "metadata": {},
   "outputs": [],
   "source": [
    "mean = 10\n",
    "std = 5\n",
    "shape = (5,35000)\n",
    "\n",
    "array = np.random.normal(mean, std, size=shape)"
   ]
  },
  {
   "cell_type": "code",
   "execution_count": 3,
   "metadata": {},
   "outputs": [],
   "source": [
    "np.save('/hpc/mzhu843/modelling/nest/DATA/processed/model2/setup2/input_weights.npy', array)"
   ]
  }
 ],
 "metadata": {
  "kernelspec": {
   "display_name": "nest",
   "language": "python",
   "name": "python3"
  },
  "language_info": {
   "codemirror_mode": {
    "name": "ipython",
    "version": 3
   },
   "file_extension": ".py",
   "mimetype": "text/x-python",
   "name": "python",
   "nbconvert_exporter": "python",
   "pygments_lexer": "ipython3",
   "version": "3.11.6"
  }
 },
 "nbformat": 4,
 "nbformat_minor": 2
}
