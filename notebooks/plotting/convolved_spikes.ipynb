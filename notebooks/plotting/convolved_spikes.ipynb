{
 "cells": [
  {
   "cell_type": "code",
   "execution_count": 1,
   "metadata": {},
   "outputs": [],
   "source": [
    "import matplotlib.pyplot as plt\n",
    "import numpy as np"
   ]
  },
  {
   "cell_type": "code",
   "execution_count": 2,
   "metadata": {},
   "outputs": [],
   "source": [
    "calcium = np.load('/hpc/mzhu843/modelling/nest/DATA/processed/spikes/con_S_5_p.npy')\n",
    "plt.plot(calcium[0])\n",
    "plt.xlabel('Frame')\n",
    "plt.ylabel('Voltage (mV)')\n",
    "\n",
    "for i in range(len(calcium)):\n",
    "    plt.plot(calcium[i])\n",
    "    plt.xlabel('Frame')\n",
    "    plt.ylabel('Voltage (mV)')\n",
    "    plt.savefig(f'/hpc/mzhu843/modelling/nest/plots/convolved spikes/Neuron {i + 1}.png')\n",
    "    plt.close('all')"
   ]
  }
 ],
 "metadata": {
  "kernelspec": {
   "display_name": "nest",
   "language": "python",
   "name": "python3"
  },
  "language_info": {
   "codemirror_mode": {
    "name": "ipython",
    "version": 3
   },
   "file_extension": ".py",
   "mimetype": "text/x-python",
   "name": "python",
   "nbconvert_exporter": "python",
   "pygments_lexer": "ipython3",
   "version": "3.11.6"
  }
 },
 "nbformat": 4,
 "nbformat_minor": 2
}
